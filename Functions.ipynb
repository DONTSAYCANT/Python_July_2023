{
 "cells": [
  {
   "cell_type": "code",
   "execution_count": null,
   "metadata": {},
   "outputs": [],
   "source": [
    "#Functions\n",
    "\n",
    "\n",
    "#Reducing number of lines in the code/program\n",
    "#\n",
    "#\n",
    "#\n",
    "\n",
    "\n",
    "#inbuilt function ===> function def is already available inside your installed package\n",
    "                        Just you need to call the function\n",
    "\n",
    "#user def function  ===> write function def (processs) and function call\n",
    "\n",
    "#function call  ===> Calling funtion defintiion for n times\n",
    "#function definition  ===> One time block which contains redudant code\n",
    "#function aruement ===> Input to the funtion defintiion\n",
    "#return ===> Output from function definition ===> defult none\n",
    "\n"
   ]
  },
  {
   "cell_type": "code",
   "execution_count": 1,
   "metadata": {},
   "outputs": [
    {
     "name": "stdout",
     "output_type": "stream",
     "text": [
      "18\n",
      "16\n",
      "7\n",
      "26\n"
     ]
    }
   ],
   "source": [
    "a = 10\n",
    "b = 8\n",
    "c = a + b\n",
    "print(c)\n",
    "\n",
    "a = 12\n",
    "b = 4\n",
    "c = a + b\n",
    "print(c)\n",
    "\n",
    "a = 16\n",
    "b = -9\n",
    "c = a + b\n",
    "print(c)\n",
    "\n",
    "a = 20\n",
    "b = 6\n",
    "c = a + b\n",
    "print(c)"
   ]
  },
  {
   "cell_type": "code",
   "execution_count": null,
   "metadata": {},
   "outputs": [],
   "source": [
    "def <function_name>(args):\n",
    "    <code1>\n",
    "    <code2>\n",
    "    return (default None)"
   ]
  },
  {
   "cell_type": "code",
   "execution_count": 2,
   "metadata": {},
   "outputs": [
    {
     "name": "stdout",
     "output_type": "stream",
     "text": [
      "18\n",
      "38\n",
      "26\n",
      "15\n"
     ]
    }
   ],
   "source": [
    "def add_marks(x,y):\n",
    "    return x + y\n",
    "\n",
    "print(add_marks(10,8))\n",
    "print(add_marks(20,18))\n",
    "print(add_marks(12,14))\n",
    "print(add_marks(-5,20))"
   ]
  },
  {
   "cell_type": "code",
   "execution_count": 1,
   "metadata": {},
   "outputs": [
    {
     "name": "stdout",
     "output_type": "stream",
     "text": [
      "hello\n",
      "18\n",
      "None\n",
      "hello\n",
      "38\n",
      "hello\n",
      "26\n",
      "hello\n",
      "15\n"
     ]
    }
   ],
   "source": [
    "def add_marks(x,y):\n",
    "    print(\"hello\")\n",
    "    print(x + y)\n",
    "    \n",
    "add_marks(10,8)\n",
    "add_marks(20,18)\n",
    "add_marks(12,14)\n",
    "add_marks(-5,20)"
   ]
  },
  {
   "cell_type": "code",
   "execution_count": 2,
   "metadata": {},
   "outputs": [
    {
     "name": "stdout",
     "output_type": "stream",
     "text": [
      "18\n",
      "38\n",
      "26\n"
     ]
    }
   ],
   "source": [
    "def add_marks(x,y):\n",
    "    return x + y\n",
    "    print(\"hello\")\n",
    "    \n",
    "print(add_marks(10,8))\n",
    "print(add_marks(20,18))\n",
    "print(add_marks(12,14))"
   ]
  },
  {
   "cell_type": "code",
   "execution_count": 7,
   "metadata": {},
   "outputs": [
    {
     "name": "stdout",
     "output_type": "stream",
     "text": [
      "even\n",
      "odd\n"
     ]
    }
   ],
   "source": [
    "def even_odd_check(x):\n",
    "    if x % 2 == 0:\n",
    "        return \"even\"\n",
    "    else:\n",
    "        return \"odd\"\n",
    "    \n",
    "print(even_odd_check(8))\n",
    "print(even_odd_check(7))"
   ]
  },
  {
   "cell_type": "code",
   "execution_count": null,
   "metadata": {},
   "outputs": [],
   "source": [
    "#inbuilt function\n",
    "\n",
    "print\n",
    "type\n",
    "int\n",
    "float\n",
    "bool\n",
    "str\n",
    "input\n",
    "list\n",
    "tuple\n",
    "set\n",
    "dict\n",
    "zip\n",
    "len\n",
    "sum\n",
    "min\n",
    "max\n",
    "del\n",
    "\n",
    "#any \n",
    "\n",
    "#all\n",
    "\n",
    "#ord\n",
    "#chr\n",
    "\n",
    "#https://www.w3schools.com/python/python_ref_functions.asp\n",
    "\n"
   ]
  }
 ],
 "metadata": {
  "kernelspec": {
   "display_name": "Python 3 (ipykernel)",
   "language": "python",
   "name": "python3"
  },
  "language_info": {
   "codemirror_mode": {
    "name": "ipython",
    "version": 3
   },
   "file_extension": ".py",
   "mimetype": "text/x-python",
   "name": "python",
   "nbconvert_exporter": "python",
   "pygments_lexer": "ipython3",
   "version": "3.9.13"
  }
 },
 "nbformat": 4,
 "nbformat_minor": 4
}
